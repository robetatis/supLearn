{
 "metadata": {
  "language_info": {
   "codemirror_mode": {
    "name": "ipython",
    "version": 3
   },
   "file_extension": ".py",
   "mimetype": "text/x-python",
   "name": "python",
   "nbconvert_exporter": "python",
   "pygments_lexer": "ipython3",
   "version": "3.8.3-final"
  },
  "orig_nbformat": 2,
  "kernelspec": {
   "name": "python3",
   "display_name": "Python 3"
  }
 },
 "nbformat": 4,
 "nbformat_minor": 2,
 "cells": [
  {
   "cell_type": "code",
   "execution_count": 67,
   "metadata": {},
   "outputs": [],
   "source": [
    "# predict survival on titanic using simple dense sequential network\n",
    "\n",
    "# import libraries\n",
    "import pandas as pd\n",
    "import numpy as np\n",
    "from sklearn.model_selection import train_test_split\n",
    "from sklearn.preprocessing import StandardScaler\n",
    "from sklearn import metrics\n",
    "from keras.models import Sequential\n",
    "from keras.layers import Dense"
   ]
  },
  {
   "cell_type": "code",
   "execution_count": 45,
   "metadata": {},
   "outputs": [
    {
     "output_type": "execute_result",
     "data": {
      "text/plain": [
       "   sex  pclass      age  relatives      fare  survived\n",
       "0    0       1  29.0000          0  211.3375         1\n",
       "1    1       1   0.9167          1  151.5500         1\n",
       "2    0       1   2.0000          1  151.5500         0\n",
       "3    1       1  30.0000          1  151.5500         0\n",
       "4    0       1  25.0000          1  151.5500         0"
      ],
      "text/html": "<div>\n<style scoped>\n    .dataframe tbody tr th:only-of-type {\n        vertical-align: middle;\n    }\n\n    .dataframe tbody tr th {\n        vertical-align: top;\n    }\n\n    .dataframe thead th {\n        text-align: right;\n    }\n</style>\n<table border=\"1\" class=\"dataframe\">\n  <thead>\n    <tr style=\"text-align: right;\">\n      <th></th>\n      <th>sex</th>\n      <th>pclass</th>\n      <th>age</th>\n      <th>relatives</th>\n      <th>fare</th>\n      <th>survived</th>\n    </tr>\n  </thead>\n  <tbody>\n    <tr>\n      <th>0</th>\n      <td>0</td>\n      <td>1</td>\n      <td>29.0000</td>\n      <td>0</td>\n      <td>211.3375</td>\n      <td>1</td>\n    </tr>\n    <tr>\n      <th>1</th>\n      <td>1</td>\n      <td>1</td>\n      <td>0.9167</td>\n      <td>1</td>\n      <td>151.5500</td>\n      <td>1</td>\n    </tr>\n    <tr>\n      <th>2</th>\n      <td>0</td>\n      <td>1</td>\n      <td>2.0000</td>\n      <td>1</td>\n      <td>151.5500</td>\n      <td>0</td>\n    </tr>\n    <tr>\n      <th>3</th>\n      <td>1</td>\n      <td>1</td>\n      <td>30.0000</td>\n      <td>1</td>\n      <td>151.5500</td>\n      <td>0</td>\n    </tr>\n    <tr>\n      <th>4</th>\n      <td>0</td>\n      <td>1</td>\n      <td>25.0000</td>\n      <td>1</td>\n      <td>151.5500</td>\n      <td>0</td>\n    </tr>\n  </tbody>\n</table>\n</div>"
     },
     "metadata": {},
     "execution_count": 45
    }
   ],
   "source": [
    "# read titanic data\n",
    "data = pd.read_csv('titanic.csv')\n",
    "data = data.replace({'?': np.nan, 'male': 1, 'female': 0}, inplace=False)\n",
    "data = data.astype({'age': np.float64, 'fare': np.float64})\n",
    "data['relatives'] = data.apply(lambda x: int( (x['sibsp'] + x['parch']) > 0), axis=1)\n",
    "data = data[['sex', 'pclass','age','relatives','fare','survived']].dropna()\n",
    "data.head()"
   ]
  },
  {
   "cell_type": "code",
   "execution_count": 54,
   "metadata": {},
   "outputs": [],
   "source": [
    "# train-test split\n",
    "x_train, x_test, y_train, y_test = train_test_split(\n",
    "    data[['sex','pclass','age','relatives','fare']], \n",
    "    data.survived, \n",
    "    test_size=0.2, \n",
    "    random_state=0)"
   ]
  },
  {
   "cell_type": "code",
   "execution_count": 40,
   "metadata": {},
   "outputs": [],
   "source": [
    "# scale variables\n",
    "sc = StandardScaler()\n",
    "X_train = sc.fit_transform(x_train)\n",
    "X_test = sc.transform(x_test)"
   ]
  },
  {
   "cell_type": "code",
   "execution_count": 69,
   "metadata": {},
   "outputs": [
    {
     "output_type": "stream",
     "name": "stdout",
     "text": [
      "Model: \"sequential_1\"\n_________________________________________________________________\nLayer (type)                 Output Shape              Param #   \n=================================================================\ndense_3 (Dense)              (None, 5)                 30        \n_________________________________________________________________\ndense_4 (Dense)              (None, 5)                 30        \n_________________________________________________________________\ndense_5 (Dense)              (None, 1)                 6         \n=================================================================\nTotal params: 66\nTrainable params: 66\nNon-trainable params: 0\n_________________________________________________________________\n"
     ]
    }
   ],
   "source": [
    "# build network\n",
    "model = Sequential()\n",
    "model.add(Dense(5, kernel_initializer = 'uniform', activation = 'relu', input_dim = 5))\n",
    "model.add(Dense(5, kernel_initializer = 'uniform', activation = 'relu'))\n",
    "model.add(Dense(1, kernel_initializer = 'uniform', activation = 'sigmoid'))\n",
    "model.summary()"
   ]
  },
  {
   "cell_type": "code",
   "execution_count": 80,
   "metadata": {},
   "outputs": [
    {
     "output_type": "stream",
     "name": "stdout",
     "text": [
      "Epoch 1/20\n",
      "17/17 [==============================] - 0s 997us/step - loss: 0.4401 - accuracy: 0.7967\n",
      "Epoch 2/20\n",
      "17/17 [==============================] - 0s 1ms/step - loss: 0.4397 - accuracy: 0.8002\n",
      "Epoch 3/20\n",
      "17/17 [==============================] - 0s 1ms/step - loss: 0.4396 - accuracy: 0.7978\n",
      "Epoch 4/20\n",
      "17/17 [==============================] - 0s 1ms/step - loss: 0.4394 - accuracy: 0.7978\n",
      "Epoch 5/20\n",
      "17/17 [==============================] - 0s 807us/step - loss: 0.4396 - accuracy: 0.7955\n",
      "Epoch 6/20\n",
      "17/17 [==============================] - 0s 1ms/step - loss: 0.4398 - accuracy: 0.7967\n",
      "Epoch 7/20\n",
      "17/17 [==============================] - 0s 1ms/step - loss: 0.4394 - accuracy: 0.7967\n",
      "Epoch 8/20\n",
      "17/17 [==============================] - 0s 1ms/step - loss: 0.4397 - accuracy: 0.7978\n",
      "Epoch 9/20\n",
      "17/17 [==============================] - 0s 1ms/step - loss: 0.4393 - accuracy: 0.7967\n",
      "Epoch 10/20\n",
      "17/17 [==============================] - 0s 1ms/step - loss: 0.4394 - accuracy: 0.7955\n",
      "Epoch 11/20\n",
      "17/17 [==============================] - 0s 1ms/step - loss: 0.4393 - accuracy: 0.7990\n",
      "Epoch 12/20\n",
      "17/17 [==============================] - 0s 1ms/step - loss: 0.4394 - accuracy: 0.7967\n",
      "Epoch 13/20\n",
      "17/17 [==============================] - 0s 1ms/step - loss: 0.4393 - accuracy: 0.7967\n",
      "Epoch 14/20\n",
      "17/17 [==============================] - 0s 1ms/step - loss: 0.4394 - accuracy: 0.7967\n",
      "Epoch 15/20\n",
      "17/17 [==============================] - 0s 1ms/step - loss: 0.4393 - accuracy: 0.7978\n",
      "Epoch 16/20\n",
      "17/17 [==============================] - 0s 1ms/step - loss: 0.4394 - accuracy: 0.7978\n",
      "Epoch 17/20\n",
      "17/17 [==============================] - 0s 1ms/step - loss: 0.4392 - accuracy: 0.7967\n",
      "Epoch 18/20\n",
      "17/17 [==============================] - 0s 1ms/step - loss: 0.4393 - accuracy: 0.7967\n",
      "Epoch 19/20\n",
      "17/17 [==============================] - 0s 1ms/step - loss: 0.4392 - accuracy: 0.7978\n",
      "Epoch 20/20\n",
      "17/17 [==============================] - 0s 1ms/step - loss: 0.4392 - accuracy: 0.7955\n"
     ]
    },
    {
     "output_type": "execute_result",
     "data": {
      "text/plain": [
       "<tensorflow.python.keras.callbacks.History at 0x216a0565220>"
      ]
     },
     "metadata": {},
     "execution_count": 80
    }
   ],
   "source": [
    "# compile and fit\n",
    "model.compile(optimizer=\"adam\", loss='binary_crossentropy', metrics=['accuracy'])\n",
    "model.fit(X_train, y_train, batch_size=50, epochs=20, verbose=1)"
   ]
  },
  {
   "cell_type": "code",
   "execution_count": 85,
   "metadata": {},
   "outputs": [
    {
     "output_type": "stream",
     "name": "stdout",
     "text": [
      "0.7990430622009569\n"
     ]
    }
   ],
   "source": [
    "# make predictions and print accuracy\n",
    "y_pred = (model.predict(X_test) > 0.5).astype('int32')\n",
    "print(metrics.accuracy_score(y_test, y_pred))"
   ]
  }
 ]
}